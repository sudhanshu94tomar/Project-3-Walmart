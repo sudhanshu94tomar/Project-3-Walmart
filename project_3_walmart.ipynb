{
 "cells": [
  {
   "cell_type": "markdown",
   "id": "410e6951",
   "metadata": {},
   "source": [
    "# Business Case: Walmart - Confidence Interval and CLT"
   ]
  },
  {
   "cell_type": "markdown",
   "id": "5e8017ca",
   "metadata": {},
   "source": [
    "Task:\n",
    "* Performing EDA to get the insights for purchase behavour between male and female, married and unmarried.\n",
    "* Using the Central limit theorem to compute the various confidence intervals.\n",
    "* Giving recomendations on the basis of insights."
   ]
  },
  {
   "cell_type": "code",
   "execution_count": 1,
   "id": "a6798dc8",
   "metadata": {},
   "outputs": [],
   "source": [
    "import numpy as np\n",
    "import pandas as pd\n",
    "import matplotlib.pyplot as plt\n",
    "import seaborn as sns\n",
    "import statsmodels.api as sm\n",
    "import scipy.stats as stats"
   ]
  },
  {
   "cell_type": "code",
   "execution_count": 2,
   "id": "4ec593b3",
   "metadata": {},
   "outputs": [],
   "source": [
    "df=pd.read_csv('walmart_data.csv')"
   ]
  },
  {
   "cell_type": "code",
   "execution_count": 3,
   "id": "23084dde",
   "metadata": {},
   "outputs": [
    {
     "data": {
      "text/html": [
       "<div>\n",
       "<style scoped>\n",
       "    .dataframe tbody tr th:only-of-type {\n",
       "        vertical-align: middle;\n",
       "    }\n",
       "\n",
       "    .dataframe tbody tr th {\n",
       "        vertical-align: top;\n",
       "    }\n",
       "\n",
       "    .dataframe thead th {\n",
       "        text-align: right;\n",
       "    }\n",
       "</style>\n",
       "<table border=\"1\" class=\"dataframe\">\n",
       "  <thead>\n",
       "    <tr style=\"text-align: right;\">\n",
       "      <th></th>\n",
       "      <th>User_ID</th>\n",
       "      <th>Product_ID</th>\n",
       "      <th>Gender</th>\n",
       "      <th>Age</th>\n",
       "      <th>Occupation</th>\n",
       "      <th>City_Category</th>\n",
       "      <th>Stay_In_Current_City_Years</th>\n",
       "      <th>Marital_Status</th>\n",
       "      <th>Product_Category</th>\n",
       "      <th>Purchase</th>\n",
       "    </tr>\n",
       "  </thead>\n",
       "  <tbody>\n",
       "    <tr>\n",
       "      <th>0</th>\n",
       "      <td>1000001</td>\n",
       "      <td>P00069042</td>\n",
       "      <td>F</td>\n",
       "      <td>0-17</td>\n",
       "      <td>10</td>\n",
       "      <td>A</td>\n",
       "      <td>2</td>\n",
       "      <td>0</td>\n",
       "      <td>3</td>\n",
       "      <td>8370</td>\n",
       "    </tr>\n",
       "    <tr>\n",
       "      <th>1</th>\n",
       "      <td>1000001</td>\n",
       "      <td>P00248942</td>\n",
       "      <td>F</td>\n",
       "      <td>0-17</td>\n",
       "      <td>10</td>\n",
       "      <td>A</td>\n",
       "      <td>2</td>\n",
       "      <td>0</td>\n",
       "      <td>1</td>\n",
       "      <td>15200</td>\n",
       "    </tr>\n",
       "    <tr>\n",
       "      <th>2</th>\n",
       "      <td>1000001</td>\n",
       "      <td>P00087842</td>\n",
       "      <td>F</td>\n",
       "      <td>0-17</td>\n",
       "      <td>10</td>\n",
       "      <td>A</td>\n",
       "      <td>2</td>\n",
       "      <td>0</td>\n",
       "      <td>12</td>\n",
       "      <td>1422</td>\n",
       "    </tr>\n",
       "    <tr>\n",
       "      <th>3</th>\n",
       "      <td>1000001</td>\n",
       "      <td>P00085442</td>\n",
       "      <td>F</td>\n",
       "      <td>0-17</td>\n",
       "      <td>10</td>\n",
       "      <td>A</td>\n",
       "      <td>2</td>\n",
       "      <td>0</td>\n",
       "      <td>12</td>\n",
       "      <td>1057</td>\n",
       "    </tr>\n",
       "    <tr>\n",
       "      <th>4</th>\n",
       "      <td>1000002</td>\n",
       "      <td>P00285442</td>\n",
       "      <td>M</td>\n",
       "      <td>55+</td>\n",
       "      <td>16</td>\n",
       "      <td>C</td>\n",
       "      <td>4+</td>\n",
       "      <td>0</td>\n",
       "      <td>8</td>\n",
       "      <td>7969</td>\n",
       "    </tr>\n",
       "  </tbody>\n",
       "</table>\n",
       "</div>"
      ],
      "text/plain": [
       "   User_ID Product_ID Gender   Age  Occupation City_Category  \\\n",
       "0  1000001  P00069042      F  0-17          10             A   \n",
       "1  1000001  P00248942      F  0-17          10             A   \n",
       "2  1000001  P00087842      F  0-17          10             A   \n",
       "3  1000001  P00085442      F  0-17          10             A   \n",
       "4  1000002  P00285442      M   55+          16             C   \n",
       "\n",
       "  Stay_In_Current_City_Years  Marital_Status  Product_Category  Purchase  \n",
       "0                          2               0                 3      8370  \n",
       "1                          2               0                 1     15200  \n",
       "2                          2               0                12      1422  \n",
       "3                          2               0                12      1057  \n",
       "4                         4+               0                 8      7969  "
      ]
     },
     "execution_count": 3,
     "metadata": {},
     "output_type": "execute_result"
    }
   ],
   "source": [
    "df.head()"
   ]
  },
  {
   "cell_type": "code",
   "execution_count": 4,
   "id": "00302ba8",
   "metadata": {},
   "outputs": [
    {
     "data": {
      "text/html": [
       "<div>\n",
       "<style scoped>\n",
       "    .dataframe tbody tr th:only-of-type {\n",
       "        vertical-align: middle;\n",
       "    }\n",
       "\n",
       "    .dataframe tbody tr th {\n",
       "        vertical-align: top;\n",
       "    }\n",
       "\n",
       "    .dataframe thead th {\n",
       "        text-align: right;\n",
       "    }\n",
       "</style>\n",
       "<table border=\"1\" class=\"dataframe\">\n",
       "  <thead>\n",
       "    <tr style=\"text-align: right;\">\n",
       "      <th></th>\n",
       "      <th>User_ID</th>\n",
       "      <th>Product_ID</th>\n",
       "      <th>Gender</th>\n",
       "      <th>Age</th>\n",
       "      <th>Occupation</th>\n",
       "      <th>City_Category</th>\n",
       "      <th>Stay_In_Current_City_Years</th>\n",
       "      <th>Marital_Status</th>\n",
       "      <th>Product_Category</th>\n",
       "      <th>Purchase</th>\n",
       "    </tr>\n",
       "  </thead>\n",
       "  <tbody>\n",
       "    <tr>\n",
       "      <th>550063</th>\n",
       "      <td>1006033</td>\n",
       "      <td>P00372445</td>\n",
       "      <td>M</td>\n",
       "      <td>51-55</td>\n",
       "      <td>13</td>\n",
       "      <td>B</td>\n",
       "      <td>1</td>\n",
       "      <td>1</td>\n",
       "      <td>20</td>\n",
       "      <td>368</td>\n",
       "    </tr>\n",
       "    <tr>\n",
       "      <th>550064</th>\n",
       "      <td>1006035</td>\n",
       "      <td>P00375436</td>\n",
       "      <td>F</td>\n",
       "      <td>26-35</td>\n",
       "      <td>1</td>\n",
       "      <td>C</td>\n",
       "      <td>3</td>\n",
       "      <td>0</td>\n",
       "      <td>20</td>\n",
       "      <td>371</td>\n",
       "    </tr>\n",
       "    <tr>\n",
       "      <th>550065</th>\n",
       "      <td>1006036</td>\n",
       "      <td>P00375436</td>\n",
       "      <td>F</td>\n",
       "      <td>26-35</td>\n",
       "      <td>15</td>\n",
       "      <td>B</td>\n",
       "      <td>4+</td>\n",
       "      <td>1</td>\n",
       "      <td>20</td>\n",
       "      <td>137</td>\n",
       "    </tr>\n",
       "    <tr>\n",
       "      <th>550066</th>\n",
       "      <td>1006038</td>\n",
       "      <td>P00375436</td>\n",
       "      <td>F</td>\n",
       "      <td>55+</td>\n",
       "      <td>1</td>\n",
       "      <td>C</td>\n",
       "      <td>2</td>\n",
       "      <td>0</td>\n",
       "      <td>20</td>\n",
       "      <td>365</td>\n",
       "    </tr>\n",
       "    <tr>\n",
       "      <th>550067</th>\n",
       "      <td>1006039</td>\n",
       "      <td>P00371644</td>\n",
       "      <td>F</td>\n",
       "      <td>46-50</td>\n",
       "      <td>0</td>\n",
       "      <td>B</td>\n",
       "      <td>4+</td>\n",
       "      <td>1</td>\n",
       "      <td>20</td>\n",
       "      <td>490</td>\n",
       "    </tr>\n",
       "  </tbody>\n",
       "</table>\n",
       "</div>"
      ],
      "text/plain": [
       "        User_ID Product_ID Gender    Age  Occupation City_Category  \\\n",
       "550063  1006033  P00372445      M  51-55          13             B   \n",
       "550064  1006035  P00375436      F  26-35           1             C   \n",
       "550065  1006036  P00375436      F  26-35          15             B   \n",
       "550066  1006038  P00375436      F    55+           1             C   \n",
       "550067  1006039  P00371644      F  46-50           0             B   \n",
       "\n",
       "       Stay_In_Current_City_Years  Marital_Status  Product_Category  Purchase  \n",
       "550063                          1               1                20       368  \n",
       "550064                          3               0                20       371  \n",
       "550065                         4+               1                20       137  \n",
       "550066                          2               0                20       365  \n",
       "550067                         4+               1                20       490  "
      ]
     },
     "execution_count": 4,
     "metadata": {},
     "output_type": "execute_result"
    }
   ],
   "source": [
    "df.tail()"
   ]
  },
  {
   "cell_type": "code",
   "execution_count": 5,
   "id": "08d16d0e",
   "metadata": {},
   "outputs": [
    {
     "data": {
      "text/html": [
       "<div>\n",
       "<style scoped>\n",
       "    .dataframe tbody tr th:only-of-type {\n",
       "        vertical-align: middle;\n",
       "    }\n",
       "\n",
       "    .dataframe tbody tr th {\n",
       "        vertical-align: top;\n",
       "    }\n",
       "\n",
       "    .dataframe thead th {\n",
       "        text-align: right;\n",
       "    }\n",
       "</style>\n",
       "<table border=\"1\" class=\"dataframe\">\n",
       "  <thead>\n",
       "    <tr style=\"text-align: right;\">\n",
       "      <th></th>\n",
       "      <th>User_ID</th>\n",
       "      <th>Occupation</th>\n",
       "      <th>Marital_Status</th>\n",
       "      <th>Product_Category</th>\n",
       "      <th>Purchase</th>\n",
       "    </tr>\n",
       "  </thead>\n",
       "  <tbody>\n",
       "    <tr>\n",
       "      <th>count</th>\n",
       "      <td>5.500680e+05</td>\n",
       "      <td>550068.000000</td>\n",
       "      <td>550068.000000</td>\n",
       "      <td>550068.000000</td>\n",
       "      <td>550068.000000</td>\n",
       "    </tr>\n",
       "    <tr>\n",
       "      <th>mean</th>\n",
       "      <td>1.003029e+06</td>\n",
       "      <td>8.076707</td>\n",
       "      <td>0.409653</td>\n",
       "      <td>5.404270</td>\n",
       "      <td>9263.968713</td>\n",
       "    </tr>\n",
       "    <tr>\n",
       "      <th>std</th>\n",
       "      <td>1.727592e+03</td>\n",
       "      <td>6.522660</td>\n",
       "      <td>0.491770</td>\n",
       "      <td>3.936211</td>\n",
       "      <td>5023.065394</td>\n",
       "    </tr>\n",
       "    <tr>\n",
       "      <th>min</th>\n",
       "      <td>1.000001e+06</td>\n",
       "      <td>0.000000</td>\n",
       "      <td>0.000000</td>\n",
       "      <td>1.000000</td>\n",
       "      <td>12.000000</td>\n",
       "    </tr>\n",
       "    <tr>\n",
       "      <th>25%</th>\n",
       "      <td>1.001516e+06</td>\n",
       "      <td>2.000000</td>\n",
       "      <td>0.000000</td>\n",
       "      <td>1.000000</td>\n",
       "      <td>5823.000000</td>\n",
       "    </tr>\n",
       "    <tr>\n",
       "      <th>50%</th>\n",
       "      <td>1.003077e+06</td>\n",
       "      <td>7.000000</td>\n",
       "      <td>0.000000</td>\n",
       "      <td>5.000000</td>\n",
       "      <td>8047.000000</td>\n",
       "    </tr>\n",
       "    <tr>\n",
       "      <th>75%</th>\n",
       "      <td>1.004478e+06</td>\n",
       "      <td>14.000000</td>\n",
       "      <td>1.000000</td>\n",
       "      <td>8.000000</td>\n",
       "      <td>12054.000000</td>\n",
       "    </tr>\n",
       "    <tr>\n",
       "      <th>max</th>\n",
       "      <td>1.006040e+06</td>\n",
       "      <td>20.000000</td>\n",
       "      <td>1.000000</td>\n",
       "      <td>20.000000</td>\n",
       "      <td>23961.000000</td>\n",
       "    </tr>\n",
       "  </tbody>\n",
       "</table>\n",
       "</div>"
      ],
      "text/plain": [
       "            User_ID     Occupation  Marital_Status  Product_Category  \\\n",
       "count  5.500680e+05  550068.000000   550068.000000     550068.000000   \n",
       "mean   1.003029e+06       8.076707        0.409653          5.404270   \n",
       "std    1.727592e+03       6.522660        0.491770          3.936211   \n",
       "min    1.000001e+06       0.000000        0.000000          1.000000   \n",
       "25%    1.001516e+06       2.000000        0.000000          1.000000   \n",
       "50%    1.003077e+06       7.000000        0.000000          5.000000   \n",
       "75%    1.004478e+06      14.000000        1.000000          8.000000   \n",
       "max    1.006040e+06      20.000000        1.000000         20.000000   \n",
       "\n",
       "            Purchase  \n",
       "count  550068.000000  \n",
       "mean     9263.968713  \n",
       "std      5023.065394  \n",
       "min        12.000000  \n",
       "25%      5823.000000  \n",
       "50%      8047.000000  \n",
       "75%     12054.000000  \n",
       "max     23961.000000  "
      ]
     },
     "execution_count": 5,
     "metadata": {},
     "output_type": "execute_result"
    }
   ],
   "source": [
    "df.describe()"
   ]
  },
  {
   "cell_type": "code",
   "execution_count": 6,
   "id": "aa12a31b",
   "metadata": {},
   "outputs": [
    {
     "name": "stdout",
     "output_type": "stream",
     "text": [
      "<class 'pandas.core.frame.DataFrame'>\n",
      "RangeIndex: 550068 entries, 0 to 550067\n",
      "Data columns (total 10 columns):\n",
      " #   Column                      Non-Null Count   Dtype \n",
      "---  ------                      --------------   ----- \n",
      " 0   User_ID                     550068 non-null  int64 \n",
      " 1   Product_ID                  550068 non-null  object\n",
      " 2   Gender                      550068 non-null  object\n",
      " 3   Age                         550068 non-null  object\n",
      " 4   Occupation                  550068 non-null  int64 \n",
      " 5   City_Category               550068 non-null  object\n",
      " 6   Stay_In_Current_City_Years  550068 non-null  object\n",
      " 7   Marital_Status              550068 non-null  int64 \n",
      " 8   Product_Category            550068 non-null  int64 \n",
      " 9   Purchase                    550068 non-null  int64 \n",
      "dtypes: int64(5), object(5)\n",
      "memory usage: 42.0+ MB\n"
     ]
    }
   ],
   "source": [
    "df.info()"
   ]
  },
  {
   "cell_type": "code",
   "execution_count": 7,
   "id": "c41d9b23",
   "metadata": {},
   "outputs": [
    {
     "data": {
      "text/plain": [
       "User_ID                       0\n",
       "Product_ID                    0\n",
       "Gender                        0\n",
       "Age                           0\n",
       "Occupation                    0\n",
       "City_Category                 0\n",
       "Stay_In_Current_City_Years    0\n",
       "Marital_Status                0\n",
       "Product_Category              0\n",
       "Purchase                      0\n",
       "dtype: int64"
      ]
     },
     "execution_count": 7,
     "metadata": {},
     "output_type": "execute_result"
    }
   ],
   "source": [
    "df.isna().sum()"
   ]
  },
  {
   "cell_type": "markdown",
   "id": "3650ecad",
   "metadata": {},
   "source": [
    "There are no null values in data set"
   ]
  },
  {
   "cell_type": "code",
   "execution_count": 8,
   "id": "027ac327",
   "metadata": {},
   "outputs": [
    {
     "name": "stderr",
     "output_type": "stream",
     "text": [
      "C:\\Users\\sudhanshu tomar\\AppData\\Local\\Programs\\Python\\Python310\\lib\\site-packages\\seaborn\\_decorators.py:36: FutureWarning: Pass the following variable as a keyword arg: x. From version 0.12, the only valid positional argument will be `data`, and passing other arguments without an explicit keyword will result in an error or misinterpretation.\n",
      "  warnings.warn(\n"
     ]
    },
    {
     "data": {
      "text/plain": [
       "<AxesSubplot:xlabel='Gender', ylabel='count'>"
      ]
     },
     "execution_count": 8,
     "metadata": {},
     "output_type": "execute_result"
    },
    {
     "data": {
      "image/png": "[encoded data removed]",
      "text/plain": [
       "<Figure size 432x288 with 1 Axes>"
      ]
     },
     "metadata": {
      "needs_background": "light"
     },
     "output_type": "display_data"
    }
   ],
   "source": [
    "sns.countplot(df['Gender'])"
   ]
  },
  {
   "cell_type": "markdown",
   "id": "efb12d54",
   "metadata": {},
   "source": [
    "It looks that more male spend on black friday than female or male does payment for there spouse"
   ]
  },
  {
   "cell_type": "code",
   "execution_count": 9,
   "id": "b1221b11",
   "metadata": {},
   "outputs": [
    {
     "data": {
      "text/plain": [
       "26-35    219587\n",
       "36-45    110013\n",
       "18-25     99660\n",
       "46-50     45701\n",
       "51-55     38501\n",
       "55+       21504\n",
       "0-17      15102\n",
       "Name: Age, dtype: int64"
      ]
     },
     "execution_count": 9,
     "metadata": {},
     "output_type": "execute_result"
    }
   ],
   "source": [
    "df['Age'].value_counts()"
   ]
  },
  {
   "cell_type": "code",
   "execution_count": 10,
   "id": "d5c6ea33",
   "metadata": {},
   "outputs": [
    {
     "name": "stderr",
     "output_type": "stream",
     "text": [
      "C:\\Users\\sudhanshu tomar\\AppData\\Local\\Programs\\Python\\Python310\\lib\\site-packages\\seaborn\\_decorators.py:36: FutureWarning: Pass the following variable as a keyword arg: x. From version 0.12, the only valid positional argument will be `data`, and passing other arguments without an explicit keyword will result in an error or misinterpretation.\n",
      "  warnings.warn(\n"
     ]
    },
    {
     "data": {
      "text/plain": [
       "<AxesSubplot:xlabel='Age', ylabel='count'>"
      ]
     },
     "execution_count": 10,
     "metadata": {},
     "output_type": "execute_result"
    },
    {
     "data": {
      "image/png": "[encoded data removed]",
      "text/plain": [
       "<Figure size 432x288 with 1 Axes>"
      ]
     },
     "metadata": {
      "needs_background": "light"
     },
     "output_type": "display_data"
    }
   ],
   "source": [
    "sns.countplot(df['Age'], order = df['Age'].value_counts().index)"
   ]
  },
  {
   "cell_type": "markdown",
   "id": "e32f6276",
   "metadata": {},
   "source": [
    "People of age group 26-35 are more active in black friday sale than other age group."
   ]
  },
  {
   "cell_type": "code",
   "execution_count": 11,
   "id": "cecb4aea",
   "metadata": {},
   "outputs": [
    {
     "name": "stderr",
     "output_type": "stream",
     "text": [
      "C:\\Users\\sudhanshu tomar\\AppData\\Local\\Programs\\Python\\Python310\\lib\\site-packages\\seaborn\\_decorators.py:36: FutureWarning: Pass the following variable as a keyword arg: x. From version 0.12, the only valid positional argument will be `data`, and passing other arguments without an explicit keyword will result in an error or misinterpretation.\n",
      "  warnings.warn(\n"
     ]
    },
    {
     "data": {
      "text/plain": [
       "<AxesSubplot:xlabel='Age', ylabel='count'>"
      ]
     },
     "execution_count": 11,
     "metadata": {},
     "output_type": "execute_result"
    },
    {
     "data": {
      "image/png": "[encoded data removed]",
      "text/plain": [
       "<Figure size 432x288 with 1 Axes>"
      ]
     },
     "metadata": {
      "needs_background": "light"
     },
     "output_type": "display_data"
    }
   ],
   "source": [
    "sns.countplot(df['Age'],hue=df['Gender'])"
   ]
  },
  {
   "cell_type": "markdown",
   "id": "c6fadbca",
   "metadata": {},
   "source": [
    "* Males in age group 26-35 are more active than female in black friday sales\n",
    "* Males of age group 18-25 and 36 to 45 are more active than female of age group 26-35"
   ]
  },
  {
   "cell_type": "code",
   "execution_count": 12,
   "id": "045a5bc6",
   "metadata": {},
   "outputs": [
    {
     "name": "stderr",
     "output_type": "stream",
     "text": [
      "C:\\Users\\sudhanshu tomar\\AppData\\Local\\Programs\\Python\\Python310\\lib\\site-packages\\seaborn\\_decorators.py:36: FutureWarning: Pass the following variable as a keyword arg: x. From version 0.12, the only valid positional argument will be `data`, and passing other arguments without an explicit keyword will result in an error or misinterpretation.\n",
      "  warnings.warn(\n"
     ]
    },
    {
     "data": {
      "text/plain": [
       "<AxesSubplot:xlabel='Age', ylabel='count'>"
      ]
     },
     "execution_count": 12,
     "metadata": {},
     "output_type": "execute_result"
    },
    {
     "data": {
      "image/png": "[encoded data removed]",
      "text/plain": [
       "<Figure size 432x288 with 1 Axes>"
      ]
     },
     "metadata": {
      "needs_background": "light"
     },
     "output_type": "display_data"
    }
   ],
   "source": [
    "sns.countplot(df['Age'],hue=df['Marital_Status'])"
   ]
  },
  {
   "cell_type": "markdown",
   "id": "009b3ad3",
   "metadata": {},
   "source": [
    "* There are mostly unmarried people who dominate the sales in age range from 18 to 45\n",
    "* Above the age of 45 mostly married people dominate the sales.\n",
    "* So from the above two chart we can say that may be males do payment for their spouse"
   ]
  },
  {
   "cell_type": "code",
   "execution_count": 13,
   "id": "2bcf16fd",
   "metadata": {},
   "outputs": [],
   "source": [
    "df['Married_Gender']=df.apply(lambda x: (x['Gender'], x['Marital_Status']),axis=1)"
   ]
  },
  {
   "cell_type": "code",
   "execution_count": 14,
   "id": "d023b25f",
   "metadata": {},
   "outputs": [
    {
     "name": "stderr",
     "output_type": "stream",
     "text": [
      "C:\\Users\\sudhanshu tomar\\AppData\\Local\\Programs\\Python\\Python310\\lib\\site-packages\\seaborn\\_decorators.py:36: FutureWarning: Pass the following variable as a keyword arg: x. From version 0.12, the only valid positional argument will be `data`, and passing other arguments without an explicit keyword will result in an error or misinterpretation.\n",
      "  warnings.warn(\n"
     ]
    },
    {
     "data": {
      "text/plain": [
       "<AxesSubplot:xlabel='Age', ylabel='count'>"
      ]
     },
     "execution_count": 14,
     "metadata": {},
     "output_type": "execute_result"
    },
    {
     "data": {
      "image/png": "[encoded data removed]",
      "text/plain": [
       "<Figure size 432x288 with 1 Axes>"
      ]
     },
     "metadata": {
      "needs_background": "light"
     },
     "output_type": "display_data"
    }
   ],
   "source": [
    "sns.countplot(df['Age'], hue=df['Married_Gender'])"
   ]
  },
  {
   "cell_type": "markdown",
   "id": "48309076",
   "metadata": {},
   "source": [
    "The chart shows that people in age group 25 to 45,\n",
    "\n",
    "The order of sales is:\n",
    "\n",
    "unmarried male > married male > unmarried female > married female"
   ]
  },
  {
   "cell_type": "code",
   "execution_count": 15,
   "id": "69ffbe02",
   "metadata": {},
   "outputs": [
    {
     "data": {
      "text/html": [
       "<div>\n",
       "<style scoped>\n",
       "    .dataframe tbody tr th:only-of-type {\n",
       "        vertical-align: middle;\n",
       "    }\n",
       "\n",
       "    .dataframe tbody tr th {\n",
       "        vertical-align: top;\n",
       "    }\n",
       "\n",
       "    .dataframe thead th {\n",
       "        text-align: right;\n",
       "    }\n",
       "</style>\n",
       "<table border=\"1\" class=\"dataframe\">\n",
       "  <thead>\n",
       "    <tr style=\"text-align: right;\">\n",
       "      <th></th>\n",
       "      <th>User_ID</th>\n",
       "      <th>Product_ID</th>\n",
       "      <th>Gender</th>\n",
       "      <th>Age</th>\n",
       "      <th>Occupation</th>\n",
       "      <th>City_Category</th>\n",
       "      <th>Stay_In_Current_City_Years</th>\n",
       "      <th>Marital_Status</th>\n",
       "      <th>Product_Category</th>\n",
       "      <th>Purchase</th>\n",
       "      <th>Married_Gender</th>\n",
       "    </tr>\n",
       "  </thead>\n",
       "  <tbody>\n",
       "    <tr>\n",
       "      <th>0</th>\n",
       "      <td>1000001</td>\n",
       "      <td>P00069042</td>\n",
       "      <td>F</td>\n",
       "      <td>0-17</td>\n",
       "      <td>10</td>\n",
       "      <td>A</td>\n",
       "      <td>2</td>\n",
       "      <td>0</td>\n",
       "      <td>3</td>\n",
       "      <td>8370</td>\n",
       "      <td>(F, 0)</td>\n",
       "    </tr>\n",
       "    <tr>\n",
       "      <th>1</th>\n",
       "      <td>1000001</td>\n",
       "      <td>P00248942</td>\n",
       "      <td>F</td>\n",
       "      <td>0-17</td>\n",
       "      <td>10</td>\n",
       "      <td>A</td>\n",
       "      <td>2</td>\n",
       "      <td>0</td>\n",
       "      <td>1</td>\n",
       "      <td>15200</td>\n",
       "      <td>(F, 0)</td>\n",
       "    </tr>\n",
       "    <tr>\n",
       "      <th>2</th>\n",
       "      <td>1000001</td>\n",
       "      <td>P00087842</td>\n",
       "      <td>F</td>\n",
       "      <td>0-17</td>\n",
       "      <td>10</td>\n",
       "      <td>A</td>\n",
       "      <td>2</td>\n",
       "      <td>0</td>\n",
       "      <td>12</td>\n",
       "      <td>1422</td>\n",
       "      <td>(F, 0)</td>\n",
       "    </tr>\n",
       "    <tr>\n",
       "      <th>3</th>\n",
       "      <td>1000001</td>\n",
       "      <td>P00085442</td>\n",
       "      <td>F</td>\n",
       "      <td>0-17</td>\n",
       "      <td>10</td>\n",
       "      <td>A</td>\n",
       "      <td>2</td>\n",
       "      <td>0</td>\n",
       "      <td>12</td>\n",
       "      <td>1057</td>\n",
       "      <td>(F, 0)</td>\n",
       "    </tr>\n",
       "    <tr>\n",
       "      <th>4</th>\n",
       "      <td>1000002</td>\n",
       "      <td>P00285442</td>\n",
       "      <td>M</td>\n",
       "      <td>55+</td>\n",
       "      <td>16</td>\n",
       "      <td>C</td>\n",
       "      <td>4+</td>\n",
       "      <td>0</td>\n",
       "      <td>8</td>\n",
       "      <td>7969</td>\n",
       "      <td>(M, 0)</td>\n",
       "    </tr>\n",
       "  </tbody>\n",
       "</table>\n",
       "</div>"
      ],
      "text/plain": [
       "   User_ID Product_ID Gender   Age  Occupation City_Category  \\\n",
       "0  1000001  P00069042      F  0-17          10             A   \n",
       "1  1000001  P00248942      F  0-17          10             A   \n",
       "2  1000001  P00087842      F  0-17          10             A   \n",
       "3  1000001  P00085442      F  0-17          10             A   \n",
       "4  1000002  P00285442      M   55+          16             C   \n",
       "\n",
       "  Stay_In_Current_City_Years  Marital_Status  Product_Category  Purchase  \\\n",
       "0                          2               0                 3      8370   \n",
       "1                          2               0                 1     15200   \n",
       "2                          2               0                12      1422   \n",
       "3                          2               0                12      1057   \n",
       "4                         4+               0                 8      7969   \n",
       "\n",
       "  Married_Gender  \n",
       "0         (F, 0)  \n",
       "1         (F, 0)  \n",
       "2         (F, 0)  \n",
       "3         (F, 0)  \n",
       "4         (M, 0)  "
      ]
     },
     "execution_count": 15,
     "metadata": {},
     "output_type": "execute_result"
    }
   ],
   "source": [
    "df.head()"
   ]
  },
  {
   "cell_type": "code",
   "execution_count": 16,
   "id": "2b465185",
   "metadata": {},
   "outputs": [
    {
     "name": "stderr",
     "output_type": "stream",
     "text": [
      "C:\\Users\\sudhanshu tomar\\AppData\\Local\\Programs\\Python\\Python310\\lib\\site-packages\\seaborn\\_decorators.py:36: FutureWarning: Pass the following variable as a keyword arg: x. From version 0.12, the only valid positional argument will be `data`, and passing other arguments without an explicit keyword will result in an error or misinterpretation.\n",
      "  warnings.warn(\n"
     ]
    },
    {
     "data": {
      "text/plain": [
       "<AxesSubplot:xlabel='Product_Category', ylabel='count'>"
      ]
     },
     "execution_count": 16,
     "metadata": {},
     "output_type": "execute_result"
    },
    {
     "data": {
      "image/png": "[encoded data removed]",
      "text/plain": [
       "<Figure size 432x288 with 1 Axes>"
      ]
     },
     "metadata": {
      "needs_background": "light"
     },
     "output_type": "display_data"
    }
   ],
   "source": [
    "sns.countplot(df['Product_Category'])"
   ]
  },
  {
   "cell_type": "markdown",
   "id": "eb5a4adb",
   "metadata": {},
   "source": [
    "It is clearly seen that product 1, 5 and 8 are most demanded product."
   ]
  },
  {
   "cell_type": "code",
   "execution_count": 17,
   "id": "73c3d354",
   "metadata": {},
   "outputs": [
    {
     "name": "stderr",
     "output_type": "stream",
     "text": [
      "C:\\Users\\sudhanshu tomar\\AppData\\Local\\Programs\\Python\\Python310\\lib\\site-packages\\seaborn\\_decorators.py:36: FutureWarning: Pass the following variable as a keyword arg: x. From version 0.12, the only valid positional argument will be `data`, and passing other arguments without an explicit keyword will result in an error or misinterpretation.\n",
      "  warnings.warn(\n"
     ]
    },
    {
     "data": {
      "text/plain": [
       "<AxesSubplot:xlabel='Product_Category', ylabel='count'>"
      ]
     },
     "execution_count": 17,
     "metadata": {},
     "output_type": "execute_result"
    },
    {
     "data": {
      "image/png": "[encoded data removed]",
      "text/plain": [
       "<Figure size 1440x576 with 1 Axes>"
      ]
     },
     "metadata": {
      "needs_background": "light"
     },
     "output_type": "display_data"
    }
   ],
   "source": [
    "fig = plt.subplots(figsize=(20, 8))\n",
    "sns.countplot(df['Product_Category'], hue=df['Age'])"
   ]
  },
  {
   "cell_type": "markdown",
   "id": "66648065",
   "metadata": {},
   "source": [
    "Mostly people who buy product 1,5 and 8 belongs to age range 26 to 35."
   ]
  },
  {
   "cell_type": "code",
   "execution_count": 18,
   "id": "a8d0fce2",
   "metadata": {},
   "outputs": [
    {
     "name": "stderr",
     "output_type": "stream",
     "text": [
      "C:\\Users\\sudhanshu tomar\\AppData\\Local\\Programs\\Python\\Python310\\lib\\site-packages\\seaborn\\_decorators.py:36: FutureWarning: Pass the following variable as a keyword arg: x. From version 0.12, the only valid positional argument will be `data`, and passing other arguments without an explicit keyword will result in an error or misinterpretation.\n",
      "  warnings.warn(\n"
     ]
    },
    {
     "data": {
      "text/plain": [
       "<AxesSubplot:xlabel='Occupation', ylabel='count'>"
      ]
     },
     "execution_count": 18,
     "metadata": {},
     "output_type": "execute_result"
    },
    {
     "data": {
      "image/png": "[encoded data removed]",
      "text/plain": [
       "<Figure size 720x432 with 1 Axes>"
      ]
     },
     "metadata": {
      "needs_background": "light"
     },
     "output_type": "display_data"
    }
   ],
   "source": [
    "fig = plt.subplots(figsize=(10, 6))\n",
    "sns.countplot(df['Occupation'], hue=df['City_Category'])"
   ]
  },
  {
   "cell_type": "markdown",
   "id": "372e2f67",
   "metadata": {},
   "source": [
    "Most of the transactions are made from city B that too is from the people who are employed in occupation category 0 4 and 7 are dominant"
   ]
  },
  {
   "cell_type": "code",
   "execution_count": 19,
   "id": "73eee799",
   "metadata": {},
   "outputs": [
    {
     "data": {
      "text/plain": [
       "array([[<AxesSubplot:title={'center':'User_ID'}>,\n",
       "        <AxesSubplot:title={'center':'Occupation'}>],\n",
       "       [<AxesSubplot:title={'center':'Marital_Status'}>,\n",
       "        <AxesSubplot:title={'center':'Product_Category'}>],\n",
       "       [<AxesSubplot:title={'center':'Purchase'}>, <AxesSubplot:>]],\n",
       "      dtype=object)"
      ]
     },
     "execution_count": 19,
     "metadata": {},
     "output_type": "execute_result"
    },
    {
     "data": {
      "image/png": "[encoded data removed]",
      "text/plain": [
       "<Figure size 576x576 with 6 Axes>"
      ]
     },
     "metadata": {
      "needs_background": "light"
     },
     "output_type": "display_data"
    }
   ],
   "source": [
    "df.hist(figsize=(8,8), edgecolor='black')"
   ]
  },
  {
   "cell_type": "code",
   "execution_count": 20,
   "id": "029e4fc4",
   "metadata": {},
   "outputs": [
    {
     "data": {
      "text/plain": [
       "<AxesSubplot:title={'center':'Years of staying in the city'}, ylabel='Stay_In_Current_City_Years'>"
      ]
     },
     "execution_count": 20,
     "metadata": {},
     "output_type": "execute_result"
    },
    {
     "data": {
      "image/png": "[encoded data removed]",
      "text/plain": [
       "<Figure size 720x360 with 1 Axes>"
      ]
     },
     "metadata": {},
     "output_type": "display_data"
    }
   ],
   "source": [
    "plt.figure(figsize = (10, 5))\n",
    "df['Stay_In_Current_City_Years'].value_counts().plot.pie(title = \"Years of staying in the city\", \n",
    "                                                                 explode = (0.1, 0, 0, 0, 0), \n",
    "                                                                 autopct = \"%1.1f%%\", shadow = True)"
   ]
  },
  {
   "cell_type": "markdown",
   "id": "a2f9904c",
   "metadata": {},
   "source": [
    "people who are living in city for one year are doing more shopping than others"
   ]
  },
  {
   "cell_type": "code",
   "execution_count": 21,
   "id": "46474897",
   "metadata": {},
   "outputs": [
    {
     "data": {
      "text/plain": [
       "<AxesSubplot:>"
      ]
     },
     "execution_count": 21,
     "metadata": {},
     "output_type": "execute_result"
    },
    {
     "data": {
      "image/png": "[encoded data removed]",
      "text/plain": [
       "<Figure size 864x576 with 2 Axes>"
      ]
     },
     "metadata": {
      "needs_background": "light"
     },
     "output_type": "display_data"
    }
   ],
   "source": [
    "plt.figure(figsize = (12, 8))\n",
    "sns.heatmap(df.corr(), cmap= \"YlGnBu\", annot=True)"
   ]
  },
  {
   "cell_type": "code",
   "execution_count": 22,
   "id": "07ea07d3",
   "metadata": {},
   "outputs": [
    {
     "data": {
      "text/plain": [
       "Gender\n",
       "F    8734.565765\n",
       "M    9437.526040\n",
       "Name: Purchase, dtype: float64"
      ]
     },
     "execution_count": 22,
     "metadata": {},
     "output_type": "execute_result"
    }
   ],
   "source": [
    "df.groupby('Gender')['Purchase'].mean()"
   ]
  },
  {
   "cell_type": "code",
   "execution_count": 23,
   "id": "8a20f31d",
   "metadata": {},
   "outputs": [
    {
     "data": {
      "text/plain": [
       "Index(['User_ID', 'Product_ID', 'Gender', 'Age', 'Occupation', 'City_Category',\n",
       "       'Stay_In_Current_City_Years', 'Marital_Status', 'Product_Category',\n",
       "       'Purchase', 'Married_Gender'],\n",
       "      dtype='object')"
      ]
     },
     "execution_count": 23,
     "metadata": {},
     "output_type": "execute_result"
    }
   ],
   "source": [
    "df.columns"
   ]
  },
  {
   "cell_type": "code",
   "execution_count": 24,
   "id": "f91eb59f",
   "metadata": {},
   "outputs": [],
   "source": [
    "def simulate_clt(d, sample_size=20, trials=200):\n",
    "    means = []\n",
    "    for i in range(trials):\n",
    "        means.append(d.sample(sample_size).mean())\n",
    "    pd.Series(means).plot(kind='kde')\n",
    "    return pd.Series(means)"
   ]
  },
  {
   "cell_type": "code",
   "execution_count": 25,
   "id": "5d770ab7",
   "metadata": {
    "scrolled": true
   },
   "outputs": [
    {
     "data": {
      "image/png": "[encoded data removed]",
      "text/plain": [
       "<Figure size 432x288 with 1 Axes>"
      ]
     },
     "metadata": {
      "needs_background": "light"
     },
     "output_type": "display_data"
    }
   ],
   "source": [
    "x = simulate_clt(df['Purchase'], sample_size=30, trials=1000)"
   ]
  },
  {
   "cell_type": "code",
   "execution_count": 26,
   "id": "1d982fa0",
   "metadata": {},
   "outputs": [
    {
     "data": {
      "image/png": "[encoded data removed]",
      "text/plain": [
       "<Figure size 432x288 with 1 Axes>"
      ]
     },
     "metadata": {
      "needs_background": "light"
     },
     "output_type": "display_data"
    }
   ],
   "source": [
    "sm.qqplot(x, dist=stats.norm, line='s');"
   ]
  },
  {
   "cell_type": "markdown",
   "id": "dc85c005",
   "metadata": {},
   "source": [
    "# Confidence Interval for all people"
   ]
  },
  {
   "cell_type": "code",
   "execution_count": 27,
   "id": "c4e31b11",
   "metadata": {},
   "outputs": [],
   "source": [
    "def confidence_interval(x,p):\n",
    "    mean = x.mean()\n",
    "    s = x.std()\n",
    "    ci=round(p*(s/(30**0.5)),2)\n",
    "    a=[round(mean-ci),round(mean+ci)]\n",
    "    return a"
   ]
  },
  {
   "cell_type": "markdown",
   "id": "933284af",
   "metadata": {},
   "source": [
    "Case 1: 90% confidence interval"
   ]
  },
  {
   "cell_type": "code",
   "execution_count": 28,
   "id": "9f07f180",
   "metadata": {},
   "outputs": [
    {
     "name": "stdout",
     "output_type": "stream",
     "text": [
      "[9006, 9550]\n"
     ]
    }
   ],
   "source": [
    "print(confidence_interval(x,1.65))"
   ]
  },
  {
   "cell_type": "markdown",
   "id": "4b3013b1",
   "metadata": {},
   "source": [
    "So, 90% of people spend in range between 9013 to 9563"
   ]
  },
  {
   "cell_type": "markdown",
   "id": "a6003c38",
   "metadata": {},
   "source": [
    "Case 2: 95% confidence interval"
   ]
  },
  {
   "cell_type": "code",
   "execution_count": 29,
   "id": "9df904ea",
   "metadata": {},
   "outputs": [
    {
     "name": "stdout",
     "output_type": "stream",
     "text": [
      "[8955, 9601]\n"
     ]
    }
   ],
   "source": [
    "print(confidence_interval(x,1.96))"
   ]
  },
  {
   "cell_type": "markdown",
   "id": "b4c15e90",
   "metadata": {},
   "source": [
    "So, 95% of people spend in range between 8961 to 9614"
   ]
  },
  {
   "cell_type": "markdown",
   "id": "a14d6b69",
   "metadata": {},
   "source": [
    "Case 3: 99% of confidence interval"
   ]
  },
  {
   "cell_type": "code",
   "execution_count": 30,
   "id": "b1e2bf5c",
   "metadata": {},
   "outputs": [
    {
     "name": "stdout",
     "output_type": "stream",
     "text": [
      "[8854, 9701]\n"
     ]
    }
   ],
   "source": [
    "print(confidence_interval(x,2.57))"
   ]
  },
  {
   "cell_type": "markdown",
   "id": "d963cef2",
   "metadata": {},
   "source": [
    "So, 99% of people spend in range between 8860 to 9716"
   ]
  },
  {
   "cell_type": "markdown",
   "id": "df809bca",
   "metadata": {},
   "source": [
    "# Gender wise analysis"
   ]
  },
  {
   "cell_type": "markdown",
   "id": "0f349eac",
   "metadata": {},
   "source": [
    "Case 1: Female"
   ]
  },
  {
   "cell_type": "code",
   "execution_count": 31,
   "id": "b7cde242",
   "metadata": {},
   "outputs": [],
   "source": [
    "df1=df.loc[df['Gender']=='F']"
   ]
  },
  {
   "cell_type": "code",
   "execution_count": 32,
   "id": "9f952c06",
   "metadata": {},
   "outputs": [
    {
     "data": {
      "image/png": "[encoded data removed]",
      "text/plain": [
       "<Figure size 432x288 with 1 Axes>"
      ]
     },
     "metadata": {
      "needs_background": "light"
     },
     "output_type": "display_data"
    }
   ],
   "source": [
    "xf = simulate_clt(df1['Purchase'], sample_size=30, trials=1000)"
   ]
  },
  {
   "cell_type": "code",
   "execution_count": 33,
   "id": "76d851a5",
   "metadata": {},
   "outputs": [
    {
     "data": {
      "image/png": "[encoded data removed]",
      "text/plain": [
       "<Figure size 432x288 with 1 Axes>"
      ]
     },
     "metadata": {
      "needs_background": "light"
     },
     "output_type": "display_data"
    }
   ],
   "source": [
    "sm.qqplot(xf, dist=stats.norm, line='s');"
   ]
  },
  {
   "cell_type": "code",
   "execution_count": 34,
   "id": "3f9c974e",
   "metadata": {},
   "outputs": [
    {
     "data": {
      "text/plain": [
       "<AxesSubplot:xlabel='Age', ylabel='Purchase'>"
      ]
     },
     "execution_count": 34,
     "metadata": {},
     "output_type": "execute_result"
    },
    {
     "data": {
      "image/png": "[encoded data removed]",
      "text/plain": [
       "<Figure size 432x288 with 1 Axes>"
      ]
     },
     "metadata": {
      "needs_background": "light"
     },
     "output_type": "display_data"
    }
   ],
   "source": [
    "sns.boxplot(data=df1, y='Purchase',x='Age')"
   ]
  },
  {
   "cell_type": "markdown",
   "id": "9ffe7063",
   "metadata": {},
   "source": [
    "we see a lot of outliers in every age range so we have to perform outlier removal"
   ]
  },
  {
   "cell_type": "code",
   "execution_count": 35,
   "id": "2e3b0c79",
   "metadata": {},
   "outputs": [
    {
     "name": "stderr",
     "output_type": "stream",
     "text": [
      "C:\\Users\\sudhanshu tomar\\AppData\\Local\\Temp\\ipykernel_6048\\1614508124.py:9: SettingWithCopyWarning: \n",
      "A value is trying to be set on a copy of a slice from a DataFrame.\n",
      "Try using .loc[row_indexer,col_indexer] = value instead\n",
      "\n",
      "See the caveats in the documentation: https://pandas.pydata.org/pandas-docs/stable/user_guide/indexing.html#returning-a-view-versus-a-copy\n",
      "  df1['Purchase'] = remove_outliers(df1['Purchase'].copy())\n"
     ]
    }
   ],
   "source": [
    "# outlier removal\n",
    "\n",
    "def remove_outliers(d):\n",
    "    iqr = d.quantile(0.75) - d.quantile(0.25)\n",
    "    upper = d.quantile(0.75) + 1.65*iqr\n",
    "    lower = d.quantile(0.25) - 1.65*iqr\n",
    "    return d.loc[(d > lower) & (d < upper)]\n",
    "\n",
    "df1['Purchase'] = remove_outliers(df1['Purchase'].copy())"
   ]
  },
  {
   "cell_type": "code",
   "execution_count": 36,
   "id": "6889b84c",
   "metadata": {},
   "outputs": [
    {
     "data": {
      "text/plain": [
       "<AxesSubplot:xlabel='Age', ylabel='Purchase'>"
      ]
     },
     "execution_count": 36,
     "metadata": {},
     "output_type": "execute_result"
    },
    {
     "data": {
      "image/png": "[encoded data removed]",
      "text/plain": [
       "<Figure size 432x288 with 1 Axes>"
      ]
     },
     "metadata": {
      "needs_background": "light"
     },
     "output_type": "display_data"
    }
   ],
   "source": [
    "sns.boxplot(data=df1, y='Purchase',x='Age')"
   ]
  },
  {
   "cell_type": "markdown",
   "id": "368fbe96",
   "metadata": {},
   "source": [
    "So here we have removed most of the outliers and the data range is "
   ]
  },
  {
   "cell_type": "markdown",
   "id": "b6202d14",
   "metadata": {},
   "source": [
    "Confidence Interval for female"
   ]
  },
  {
   "cell_type": "markdown",
   "id": "5d75c2d9",
   "metadata": {},
   "source": [
    "Case 1: 90% confidence interval"
   ]
  },
  {
   "cell_type": "code",
   "execution_count": 37,
   "id": "b8b65baa",
   "metadata": {},
   "outputs": [
    {
     "name": "stdout",
     "output_type": "stream",
     "text": [
      "[8491, 9034]\n"
     ]
    }
   ],
   "source": [
    "print(confidence_interval(xf,1.65))"
   ]
  },
  {
   "cell_type": "markdown",
   "id": "b67b77ce",
   "metadata": {},
   "source": [
    "Case 2: 95% Confidence interval"
   ]
  },
  {
   "cell_type": "code",
   "execution_count": 38,
   "id": "652f31f5",
   "metadata": {},
   "outputs": [
    {
     "name": "stdout",
     "output_type": "stream",
     "text": [
      "[8440, 9085]\n"
     ]
    }
   ],
   "source": [
    "print(confidence_interval(xf,1.96))"
   ]
  },
  {
   "cell_type": "markdown",
   "id": "cc184672",
   "metadata": {},
   "source": [
    "case 3: 99% confidence interval"
   ]
  },
  {
   "cell_type": "code",
   "execution_count": 39,
   "id": "cb76d96e",
   "metadata": {},
   "outputs": [
    {
     "name": "stdout",
     "output_type": "stream",
     "text": [
      "[8339, 9186]\n"
     ]
    }
   ],
   "source": [
    "print(confidence_interval(xf,2.57))"
   ]
  },
  {
   "cell_type": "code",
   "execution_count": null,
   "id": "dd483f89",
   "metadata": {},
   "outputs": [],
   "source": []
  },
  {
   "cell_type": "markdown",
   "id": "e63a513c",
   "metadata": {},
   "source": [
    "Case 2: Male"
   ]
  },
  {
   "cell_type": "code",
   "execution_count": 40,
   "id": "3209564f",
   "metadata": {},
   "outputs": [],
   "source": [
    "df2=df.loc[df['Gender']=='M']"
   ]
  },
  {
   "cell_type": "code",
   "execution_count": 41,
   "id": "855eb846",
   "metadata": {},
   "outputs": [
    {
     "data": {
      "image/png": "[encoded data removed]",
      "text/plain": [
       "<Figure size 432x288 with 1 Axes>"
      ]
     },
     "metadata": {
      "needs_background": "light"
     },
     "output_type": "display_data"
    }
   ],
   "source": [
    "xm = simulate_clt(df2['Purchase'], sample_size=50, trials=5000)"
   ]
  },
  {
   "cell_type": "code",
   "execution_count": 42,
   "id": "d313c3aa",
   "metadata": {},
   "outputs": [
    {
     "data": {
      "image/png": "[encoded data removed]",
      "text/plain": [
       "<Figure size 432x288 with 1 Axes>"
      ]
     },
     "metadata": {
      "needs_background": "light"
     },
     "output_type": "display_data"
    }
   ],
   "source": [
    "sm.qqplot(xf, dist=stats.norm, line='s');"
   ]
  },
  {
   "cell_type": "code",
   "execution_count": 43,
   "id": "741e9479",
   "metadata": {},
   "outputs": [
    {
     "data": {
      "text/plain": [
       "<AxesSubplot:xlabel='Age', ylabel='Purchase'>"
      ]
     },
     "execution_count": 43,
     "metadata": {},
     "output_type": "execute_result"
    },
    {
     "data": {
      "image/png": "[encoded data removed]",
      "text/plain": [
       "<Figure size 432x288 with 1 Axes>"
      ]
     },
     "metadata": {
      "needs_background": "light"
     },
     "output_type": "display_data"
    }
   ],
   "source": [
    "sns.boxplot(data=df2, y='Purchase',x='Age')"
   ]
  },
  {
   "cell_type": "code",
   "execution_count": 44,
   "id": "afa55b4f",
   "metadata": {},
   "outputs": [
    {
     "name": "stderr",
     "output_type": "stream",
     "text": [
      "C:\\Users\\sudhanshu tomar\\AppData\\Local\\Temp\\ipykernel_6048\\3096759920.py:9: SettingWithCopyWarning: \n",
      "A value is trying to be set on a copy of a slice from a DataFrame.\n",
      "Try using .loc[row_indexer,col_indexer] = value instead\n",
      "\n",
      "See the caveats in the documentation: https://pandas.pydata.org/pandas-docs/stable/user_guide/indexing.html#returning-a-view-versus-a-copy\n",
      "  df2['Purchase'] = remove_outliers(df2['Purchase'].copy())\n"
     ]
    }
   ],
   "source": [
    "# outlier removal\n",
    "\n",
    "def remove_outliers(d):\n",
    "    iqr = d.quantile(0.75) - d.quantile(0.25)\n",
    "    upper = d.quantile(0.75) + 1.65*iqr\n",
    "    lower = d.quantile(0.25) - 1.65*iqr\n",
    "    return d.loc[(d > lower) & (d < upper)]\n",
    "\n",
    "df2['Purchase'] = remove_outliers(df2['Purchase'].copy())"
   ]
  },
  {
   "cell_type": "code",
   "execution_count": 45,
   "id": "c77bfb7b",
   "metadata": {},
   "outputs": [
    {
     "data": {
      "text/plain": [
       "<AxesSubplot:xlabel='Age', ylabel='Purchase'>"
      ]
     },
     "execution_count": 45,
     "metadata": {},
     "output_type": "execute_result"
    },
    {
     "data": {
      "image/png": "[encoded data removed]",
      "text/plain": [
       "<Figure size 432x288 with 1 Axes>"
      ]
     },
     "metadata": {
      "needs_background": "light"
     },
     "output_type": "display_data"
    }
   ],
   "source": [
    "sns.boxplot(data=df2, y='Purchase',x='Age')"
   ]
  },
  {
   "cell_type": "markdown",
   "id": "0b805df4",
   "metadata": {},
   "source": [
    "Case 1: 90% confidence interval"
   ]
  },
  {
   "cell_type": "code",
   "execution_count": 46,
   "id": "636f99d2",
   "metadata": {},
   "outputs": [
    {
     "name": "stdout",
     "output_type": "stream",
     "text": [
      "[9228, 9664]\n"
     ]
    }
   ],
   "source": [
    "print(confidence_interval(xm,1.65))"
   ]
  },
  {
   "cell_type": "markdown",
   "id": "5c14ca88",
   "metadata": {},
   "source": [
    "Case 2: 95% Confidence interval"
   ]
  },
  {
   "cell_type": "code",
   "execution_count": 47,
   "id": "964299f1",
   "metadata": {},
   "outputs": [
    {
     "name": "stdout",
     "output_type": "stream",
     "text": [
      "[9187, 9705]\n"
     ]
    }
   ],
   "source": [
    "print(confidence_interval(xm,1.96))"
   ]
  },
  {
   "cell_type": "markdown",
   "id": "6e6b7088",
   "metadata": {},
   "source": [
    "case 3: 99% confidence interval"
   ]
  },
  {
   "cell_type": "code",
   "execution_count": 48,
   "id": "43e114fc",
   "metadata": {},
   "outputs": [
    {
     "name": "stdout",
     "output_type": "stream",
     "text": [
      "[9106, 9785]\n"
     ]
    }
   ],
   "source": [
    "print(confidence_interval(xm,2.57))"
   ]
  },
  {
   "cell_type": "code",
   "execution_count": 49,
   "id": "20d362ee",
   "metadata": {},
   "outputs": [],
   "source": [
    "dat = [['All', 9013,9563,8961,9614,8860,9716], ['Male',9226,9660,9185,9701,9105,9781], ['Female',8500,9008,8452,9056,8359,9149]]\n",
    "data=pd.DataFrame(dat, columns=['Categorie','90%-min','90%-max','95%-min','95%-max','99%-min','99%-max'])"
   ]
  },
  {
   "cell_type": "code",
   "execution_count": 50,
   "id": "0fe624b1",
   "metadata": {},
   "outputs": [
    {
     "data": {
      "text/html": [
       "<div>\n",
       "<style scoped>\n",
       "    .dataframe tbody tr th:only-of-type {\n",
       "        vertical-align: middle;\n",
       "    }\n",
       "\n",
       "    .dataframe tbody tr th {\n",
       "        vertical-align: top;\n",
       "    }\n",
       "\n",
       "    .dataframe thead th {\n",
       "        text-align: right;\n",
       "    }\n",
       "</style>\n",
       "<table border=\"1\" class=\"dataframe\">\n",
       "  <thead>\n",
       "    <tr style=\"text-align: right;\">\n",
       "      <th></th>\n",
       "      <th>Categorie</th>\n",
       "      <th>90%-min</th>\n",
       "      <th>90%-max</th>\n",
       "      <th>95%-min</th>\n",
       "      <th>95%-max</th>\n",
       "      <th>99%-min</th>\n",
       "      <th>99%-max</th>\n",
       "    </tr>\n",
       "  </thead>\n",
       "  <tbody>\n",
       "    <tr>\n",
       "      <th>0</th>\n",
       "      <td>All</td>\n",
       "      <td>9013</td>\n",
       "      <td>9563</td>\n",
       "      <td>8961</td>\n",
       "      <td>9614</td>\n",
       "      <td>8860</td>\n",
       "      <td>9716</td>\n",
       "    </tr>\n",
       "    <tr>\n",
       "      <th>1</th>\n",
       "      <td>Male</td>\n",
       "      <td>9226</td>\n",
       "      <td>9660</td>\n",
       "      <td>9185</td>\n",
       "      <td>9701</td>\n",
       "      <td>9105</td>\n",
       "      <td>9781</td>\n",
       "    </tr>\n",
       "    <tr>\n",
       "      <th>2</th>\n",
       "      <td>Female</td>\n",
       "      <td>8500</td>\n",
       "      <td>9008</td>\n",
       "      <td>8452</td>\n",
       "      <td>9056</td>\n",
       "      <td>8359</td>\n",
       "      <td>9149</td>\n",
       "    </tr>\n",
       "  </tbody>\n",
       "</table>\n",
       "</div>"
      ],
      "text/plain": [
       "  Categorie  90%-min  90%-max  95%-min  95%-max  99%-min  99%-max\n",
       "0       All     9013     9563     8961     9614     8860     9716\n",
       "1      Male     9226     9660     9185     9701     9105     9781\n",
       "2    Female     8500     9008     8452     9056     8359     9149"
      ]
     },
     "execution_count": 50,
     "metadata": {},
     "output_type": "execute_result"
    }
   ],
   "source": [
    "data"
   ]
  },
  {
   "cell_type": "code",
   "execution_count": 51,
   "id": "821d40ec",
   "metadata": {},
   "outputs": [
    {
     "data": {
      "text/html": [
       "<div>\n",
       "<style scoped>\n",
       "    .dataframe tbody tr th:only-of-type {\n",
       "        vertical-align: middle;\n",
       "    }\n",
       "\n",
       "    .dataframe tbody tr th {\n",
       "        vertical-align: top;\n",
       "    }\n",
       "\n",
       "    .dataframe thead th {\n",
       "        text-align: right;\n",
       "    }\n",
       "</style>\n",
       "<table border=\"1\" class=\"dataframe\">\n",
       "  <thead>\n",
       "    <tr style=\"text-align: right;\">\n",
       "      <th></th>\n",
       "      <th>Categorie</th>\n",
       "      <th>90%-min</th>\n",
       "      <th>90%-max</th>\n",
       "      <th>95%-min</th>\n",
       "      <th>95%-max</th>\n",
       "      <th>99%-min</th>\n",
       "      <th>99%-max</th>\n",
       "      <th>ci_90%</th>\n",
       "      <th>ci_95%</th>\n",
       "      <th>ci_99%</th>\n",
       "    </tr>\n",
       "  </thead>\n",
       "  <tbody>\n",
       "    <tr>\n",
       "      <th>0</th>\n",
       "      <td>All</td>\n",
       "      <td>9013</td>\n",
       "      <td>9563</td>\n",
       "      <td>8961</td>\n",
       "      <td>9614</td>\n",
       "      <td>8860</td>\n",
       "      <td>9716</td>\n",
       "      <td>550</td>\n",
       "      <td>653</td>\n",
       "      <td>856</td>\n",
       "    </tr>\n",
       "    <tr>\n",
       "      <th>1</th>\n",
       "      <td>Male</td>\n",
       "      <td>9226</td>\n",
       "      <td>9660</td>\n",
       "      <td>9185</td>\n",
       "      <td>9701</td>\n",
       "      <td>9105</td>\n",
       "      <td>9781</td>\n",
       "      <td>434</td>\n",
       "      <td>516</td>\n",
       "      <td>676</td>\n",
       "    </tr>\n",
       "    <tr>\n",
       "      <th>2</th>\n",
       "      <td>Female</td>\n",
       "      <td>8500</td>\n",
       "      <td>9008</td>\n",
       "      <td>8452</td>\n",
       "      <td>9056</td>\n",
       "      <td>8359</td>\n",
       "      <td>9149</td>\n",
       "      <td>508</td>\n",
       "      <td>604</td>\n",
       "      <td>790</td>\n",
       "    </tr>\n",
       "  </tbody>\n",
       "</table>\n",
       "</div>"
      ],
      "text/plain": [
       "  Categorie  90%-min  90%-max  95%-min  95%-max  99%-min  99%-max  ci_90%  \\\n",
       "0       All     9013     9563     8961     9614     8860     9716     550   \n",
       "1      Male     9226     9660     9185     9701     9105     9781     434   \n",
       "2    Female     8500     9008     8452     9056     8359     9149     508   \n",
       "\n",
       "   ci_95%  ci_99%  \n",
       "0     653     856  \n",
       "1     516     676  \n",
       "2     604     790  "
      ]
     },
     "execution_count": 51,
     "metadata": {},
     "output_type": "execute_result"
    }
   ],
   "source": [
    "data['ci_90%']=data['90%-max']-data['90%-min']\n",
    "data['ci_95%']=data['95%-max']-data['95%-min']\n",
    "data['ci_99%']=data['99%-max']-data['99%-min']\n",
    "data"
   ]
  },
  {
   "cell_type": "markdown",
   "id": "a1e15dd6",
   "metadata": {},
   "source": [
    "Confidence interval is shorter for male than female"
   ]
  },
  {
   "cell_type": "code",
   "execution_count": 52,
   "id": "90d9b903",
   "metadata": {},
   "outputs": [
    {
     "data": {
      "image/png": "[encoded data removed]",
      "text/plain": [
       "<Figure size 432x288 with 1 Axes>"
      ]
     },
     "metadata": {
      "needs_background": "light"
     },
     "output_type": "display_data"
    }
   ],
   "source": [
    "plt.grid()\n",
    "plt.bar(data['Categorie'], data['90%-max'], width=0.2, label='90%-high')\n",
    "plt.bar(data['Categorie'], data['90%-min'], width=0.2, label='90%-low')\n",
    "plt.ylim(8000,10000)\n",
    "plt.legend()\n",
    "plt.show()"
   ]
  },
  {
   "cell_type": "code",
   "execution_count": 53,
   "id": "639fa76e",
   "metadata": {},
   "outputs": [
    {
     "data": {
      "image/png": "[encoded data removed]",
      "text/plain": [
       "<Figure size 432x288 with 1 Axes>"
      ]
     },
     "metadata": {
      "needs_background": "light"
     },
     "output_type": "display_data"
    }
   ],
   "source": [
    "plt.grid()\n",
    "plt.bar(data['Categorie'], data['95%-max'], width=0.2, label='95%-high')\n",
    "plt.bar(data['Categorie'], data['95%-min'], width=0.2, label='95%-low')\n",
    "plt.ylim(8000,10000)\n",
    "plt.legend()\n",
    "plt.show()"
   ]
  },
  {
   "cell_type": "code",
   "execution_count": 54,
   "id": "92084bb4",
   "metadata": {},
   "outputs": [
    {
     "data": {
      "image/png": "[encoded data removed]",
      "text/plain": [
       "<Figure size 432x288 with 1 Axes>"
      ]
     },
     "metadata": {
      "needs_background": "light"
     },
     "output_type": "display_data"
    }
   ],
   "source": [
    "plt.grid()\n",
    "plt.bar(data['Categorie'], data['99%-max'], width=0.2, label='99%-high')\n",
    "plt.bar(data['Categorie'], data['99%-min'], width=0.2, label='99%-low')\n",
    "plt.ylim(8000,10000)\n",
    "plt.legend()\n",
    "plt.show()"
   ]
  },
  {
   "cell_type": "markdown",
   "id": "cbaf7a84",
   "metadata": {},
   "source": [
    "Range of confidence interval is lower for female tham male"
   ]
  },
  {
   "cell_type": "markdown",
   "id": "40eec31f",
   "metadata": {},
   "source": [
    "# Married vs Unmarried analysis"
   ]
  },
  {
   "cell_type": "code",
   "execution_count": 55,
   "id": "bd52139c",
   "metadata": {},
   "outputs": [
    {
     "data": {
      "text/html": [
       "<div>\n",
       "<style scoped>\n",
       "    .dataframe tbody tr th:only-of-type {\n",
       "        vertical-align: middle;\n",
       "    }\n",
       "\n",
       "    .dataframe tbody tr th {\n",
       "        vertical-align: top;\n",
       "    }\n",
       "\n",
       "    .dataframe thead th {\n",
       "        text-align: right;\n",
       "    }\n",
       "</style>\n",
       "<table border=\"1\" class=\"dataframe\">\n",
       "  <thead>\n",
       "    <tr style=\"text-align: right;\">\n",
       "      <th></th>\n",
       "      <th>User_ID</th>\n",
       "      <th>Product_ID</th>\n",
       "      <th>Gender</th>\n",
       "      <th>Age</th>\n",
       "      <th>Occupation</th>\n",
       "      <th>City_Category</th>\n",
       "      <th>Stay_In_Current_City_Years</th>\n",
       "      <th>Marital_Status</th>\n",
       "      <th>Product_Category</th>\n",
       "      <th>Purchase</th>\n",
       "      <th>Married_Gender</th>\n",
       "    </tr>\n",
       "  </thead>\n",
       "  <tbody>\n",
       "    <tr>\n",
       "      <th>0</th>\n",
       "      <td>1000001</td>\n",
       "      <td>P00069042</td>\n",
       "      <td>F</td>\n",
       "      <td>0-17</td>\n",
       "      <td>10</td>\n",
       "      <td>A</td>\n",
       "      <td>2</td>\n",
       "      <td>0</td>\n",
       "      <td>3</td>\n",
       "      <td>8370</td>\n",
       "      <td>(F, 0)</td>\n",
       "    </tr>\n",
       "    <tr>\n",
       "      <th>1</th>\n",
       "      <td>1000001</td>\n",
       "      <td>P00248942</td>\n",
       "      <td>F</td>\n",
       "      <td>0-17</td>\n",
       "      <td>10</td>\n",
       "      <td>A</td>\n",
       "      <td>2</td>\n",
       "      <td>0</td>\n",
       "      <td>1</td>\n",
       "      <td>15200</td>\n",
       "      <td>(F, 0)</td>\n",
       "    </tr>\n",
       "    <tr>\n",
       "      <th>2</th>\n",
       "      <td>1000001</td>\n",
       "      <td>P00087842</td>\n",
       "      <td>F</td>\n",
       "      <td>0-17</td>\n",
       "      <td>10</td>\n",
       "      <td>A</td>\n",
       "      <td>2</td>\n",
       "      <td>0</td>\n",
       "      <td>12</td>\n",
       "      <td>1422</td>\n",
       "      <td>(F, 0)</td>\n",
       "    </tr>\n",
       "    <tr>\n",
       "      <th>3</th>\n",
       "      <td>1000001</td>\n",
       "      <td>P00085442</td>\n",
       "      <td>F</td>\n",
       "      <td>0-17</td>\n",
       "      <td>10</td>\n",
       "      <td>A</td>\n",
       "      <td>2</td>\n",
       "      <td>0</td>\n",
       "      <td>12</td>\n",
       "      <td>1057</td>\n",
       "      <td>(F, 0)</td>\n",
       "    </tr>\n",
       "    <tr>\n",
       "      <th>4</th>\n",
       "      <td>1000002</td>\n",
       "      <td>P00285442</td>\n",
       "      <td>M</td>\n",
       "      <td>55+</td>\n",
       "      <td>16</td>\n",
       "      <td>C</td>\n",
       "      <td>4+</td>\n",
       "      <td>0</td>\n",
       "      <td>8</td>\n",
       "      <td>7969</td>\n",
       "      <td>(M, 0)</td>\n",
       "    </tr>\n",
       "  </tbody>\n",
       "</table>\n",
       "</div>"
      ],
      "text/plain": [
       "   User_ID Product_ID Gender   Age  Occupation City_Category  \\\n",
       "0  1000001  P00069042      F  0-17          10             A   \n",
       "1  1000001  P00248942      F  0-17          10             A   \n",
       "2  1000001  P00087842      F  0-17          10             A   \n",
       "3  1000001  P00085442      F  0-17          10             A   \n",
       "4  1000002  P00285442      M   55+          16             C   \n",
       "\n",
       "  Stay_In_Current_City_Years  Marital_Status  Product_Category  Purchase  \\\n",
       "0                          2               0                 3      8370   \n",
       "1                          2               0                 1     15200   \n",
       "2                          2               0                12      1422   \n",
       "3                          2               0                12      1057   \n",
       "4                         4+               0                 8      7969   \n",
       "\n",
       "  Married_Gender  \n",
       "0         (F, 0)  \n",
       "1         (F, 0)  \n",
       "2         (F, 0)  \n",
       "3         (F, 0)  \n",
       "4         (M, 0)  "
      ]
     },
     "execution_count": 55,
     "metadata": {},
     "output_type": "execute_result"
    }
   ],
   "source": [
    "df.head()"
   ]
  },
  {
   "cell_type": "markdown",
   "id": "4139a002",
   "metadata": {},
   "source": [
    "Case 1: for unmarried"
   ]
  },
  {
   "cell_type": "code",
   "execution_count": 56,
   "id": "35509dde",
   "metadata": {},
   "outputs": [],
   "source": [
    "df2=df.loc[df['Marital_Status']==0]"
   ]
  },
  {
   "cell_type": "code",
   "execution_count": 57,
   "id": "d957446e",
   "metadata": {},
   "outputs": [
    {
     "data": {
      "image/png": "[encoded data removed]",
      "text/plain": [
       "<Figure size 432x288 with 1 Axes>"
      ]
     },
     "metadata": {
      "needs_background": "light"
     },
     "output_type": "display_data"
    }
   ],
   "source": [
    "xum = simulate_clt(df2['Purchase'], sample_size=30, trials=1000)"
   ]
  },
  {
   "cell_type": "code",
   "execution_count": 58,
   "id": "6dd752ca",
   "metadata": {},
   "outputs": [
    {
     "name": "stdout",
     "output_type": "stream",
     "text": [
      "[8968, 9522]\n"
     ]
    }
   ],
   "source": [
    "print(confidence_interval(xum,1.65))"
   ]
  },
  {
   "cell_type": "code",
   "execution_count": 59,
   "id": "2ced9c58",
   "metadata": {},
   "outputs": [
    {
     "name": "stdout",
     "output_type": "stream",
     "text": [
      "[8916, 9574]\n"
     ]
    }
   ],
   "source": [
    "print(confidence_interval(xum,1.96))"
   ]
  },
  {
   "cell_type": "code",
   "execution_count": 60,
   "id": "71de8e42",
   "metadata": {},
   "outputs": [
    {
     "name": "stdout",
     "output_type": "stream",
     "text": [
      "[8813, 9677]\n"
     ]
    }
   ],
   "source": [
    "print(confidence_interval(xum,2.57))"
   ]
  },
  {
   "cell_type": "markdown",
   "id": "83564396",
   "metadata": {},
   "source": [
    "Case 2: for Married"
   ]
  },
  {
   "cell_type": "code",
   "execution_count": 61,
   "id": "4835286d",
   "metadata": {},
   "outputs": [
    {
     "data": {
      "image/png": "[encoded data removed]",
      "text/plain": [
       "<Figure size 432x288 with 1 Axes>"
      ]
     },
     "metadata": {
      "needs_background": "light"
     },
     "output_type": "display_data"
    }
   ],
   "source": [
    "df2=df.loc[df['Marital_Status']==1]\n",
    "xm = simulate_clt(df2['Purchase'], sample_size=30, trials=1000)"
   ]
  },
  {
   "cell_type": "code",
   "execution_count": 62,
   "id": "e7efc434",
   "metadata": {},
   "outputs": [
    {
     "name": "stdout",
     "output_type": "stream",
     "text": [
      "[8987, 9532]\n"
     ]
    }
   ],
   "source": [
    "print(confidence_interval(xm,1.65))"
   ]
  },
  {
   "cell_type": "code",
   "execution_count": 63,
   "id": "63e14ceb",
   "metadata": {},
   "outputs": [
    {
     "name": "stdout",
     "output_type": "stream",
     "text": [
      "[8936, 9583]\n"
     ]
    }
   ],
   "source": [
    "print(confidence_interval(xm,1.96))"
   ]
  },
  {
   "cell_type": "code",
   "execution_count": 64,
   "id": "57c1be17",
   "metadata": {},
   "outputs": [
    {
     "name": "stdout",
     "output_type": "stream",
     "text": [
      "[8835, 9684]\n"
     ]
    }
   ],
   "source": [
    "print(confidence_interval(xm,2.57))"
   ]
  },
  {
   "cell_type": "code",
   "execution_count": 65,
   "id": "943c84e4",
   "metadata": {},
   "outputs": [],
   "source": [
    "dat=[['Unmarried',8966, 9534,8966, 9534, 8807, 9692],['Married',9006,9539,8956,9589,8857,9687]]\n",
    "data=pd.DataFrame(dat, columns=['Categorie','90%-min','90%-max','95%-min','95%-max','99%-min','99%-max'])"
   ]
  },
  {
   "cell_type": "code",
   "execution_count": 66,
   "id": "25fa0319",
   "metadata": {},
   "outputs": [
    {
     "data": {
      "text/html": [
       "<div>\n",
       "<style scoped>\n",
       "    .dataframe tbody tr th:only-of-type {\n",
       "        vertical-align: middle;\n",
       "    }\n",
       "\n",
       "    .dataframe tbody tr th {\n",
       "        vertical-align: top;\n",
       "    }\n",
       "\n",
       "    .dataframe thead th {\n",
       "        text-align: right;\n",
       "    }\n",
       "</style>\n",
       "<table border=\"1\" class=\"dataframe\">\n",
       "  <thead>\n",
       "    <tr style=\"text-align: right;\">\n",
       "      <th></th>\n",
       "      <th>Categorie</th>\n",
       "      <th>90%-min</th>\n",
       "      <th>90%-max</th>\n",
       "      <th>95%-min</th>\n",
       "      <th>95%-max</th>\n",
       "      <th>99%-min</th>\n",
       "      <th>99%-max</th>\n",
       "      <th>ci_90%</th>\n",
       "      <th>ci_95%</th>\n",
       "      <th>ci_99%</th>\n",
       "    </tr>\n",
       "  </thead>\n",
       "  <tbody>\n",
       "    <tr>\n",
       "      <th>0</th>\n",
       "      <td>Unmarried</td>\n",
       "      <td>8966</td>\n",
       "      <td>9534</td>\n",
       "      <td>8966</td>\n",
       "      <td>9534</td>\n",
       "      <td>8807</td>\n",
       "      <td>9692</td>\n",
       "      <td>568</td>\n",
       "      <td>568</td>\n",
       "      <td>885</td>\n",
       "    </tr>\n",
       "    <tr>\n",
       "      <th>1</th>\n",
       "      <td>Married</td>\n",
       "      <td>9006</td>\n",
       "      <td>9539</td>\n",
       "      <td>8956</td>\n",
       "      <td>9589</td>\n",
       "      <td>8857</td>\n",
       "      <td>9687</td>\n",
       "      <td>533</td>\n",
       "      <td>633</td>\n",
       "      <td>830</td>\n",
       "    </tr>\n",
       "  </tbody>\n",
       "</table>\n",
       "</div>"
      ],
      "text/plain": [
       "   Categorie  90%-min  90%-max  95%-min  95%-max  99%-min  99%-max  ci_90%  \\\n",
       "0  Unmarried     8966     9534     8966     9534     8807     9692     568   \n",
       "1    Married     9006     9539     8956     9589     8857     9687     533   \n",
       "\n",
       "   ci_95%  ci_99%  \n",
       "0     568     885  \n",
       "1     633     830  "
      ]
     },
     "execution_count": 66,
     "metadata": {},
     "output_type": "execute_result"
    }
   ],
   "source": [
    "data['ci_90%']=data['90%-max']-data['90%-min']\n",
    "data['ci_95%']=data['95%-max']-data['95%-min']\n",
    "data['ci_99%']=data['99%-max']-data['99%-min']\n",
    "data"
   ]
  },
  {
   "cell_type": "code",
   "execution_count": 67,
   "id": "f0876189",
   "metadata": {},
   "outputs": [
    {
     "data": {
      "image/png": "[encoded data removed]",
      "text/plain": [
       "<Figure size 432x288 with 1 Axes>"
      ]
     },
     "metadata": {
      "needs_background": "light"
     },
     "output_type": "display_data"
    }
   ],
   "source": [
    "plt.grid()\n",
    "plt.bar(data['Categorie'], data['90%-max'], width=0.2, label='90%-high')\n",
    "plt.bar(data['Categorie'], data['90%-min'], width=0.2, label='90%-low')\n",
    "plt.ylim(8000,10000)\n",
    "plt.legend()\n",
    "plt.show()"
   ]
  },
  {
   "cell_type": "code",
   "execution_count": 68,
   "id": "d024d67b",
   "metadata": {},
   "outputs": [
    {
     "data": {
      "image/png": "[encoded data removed]",
      "text/plain": [
       "<Figure size 432x288 with 1 Axes>"
      ]
     },
     "metadata": {
      "needs_background": "light"
     },
     "output_type": "display_data"
    }
   ],
   "source": [
    "plt.grid()\n",
    "plt.bar(data['Categorie'], data['95%-max'], width=0.2, label='95%-high')\n",
    "plt.bar(data['Categorie'], data['95%-min'], width=0.2, label='95%-low')\n",
    "plt.ylim(8000,10000)\n",
    "plt.legend()\n",
    "plt.show()"
   ]
  },
  {
   "cell_type": "code",
   "execution_count": 69,
   "id": "c7a9a1cc",
   "metadata": {},
   "outputs": [
    {
     "data": {
      "image/png": "[encoded data removed]",
      "text/plain": [
       "<Figure size 432x288 with 1 Axes>"
      ]
     },
     "metadata": {
      "needs_background": "light"
     },
     "output_type": "display_data"
    }
   ],
   "source": [
    "plt.grid()\n",
    "plt.bar(data['Categorie'], data['99%-max'], width=0.2, label='99%-high')\n",
    "plt.bar(data['Categorie'], data['99%-min'], width=0.2, label='99%-low')\n",
    "plt.ylim(8000,10000)\n",
    "plt.legend()\n",
    "plt.show()"
   ]
  },
  {
   "cell_type": "markdown",
   "id": "117710b3",
   "metadata": {},
   "source": [
    "All the confidence interval ranges for married vs unmarried are approximately equal"
   ]
  },
  {
   "cell_type": "markdown",
   "id": "142cc388",
   "metadata": {},
   "source": [
    "Insights:\n",
    "* People of age group 26-35 are more active in black friday sale than other age group.\n",
    "* Males in age group 26-35 are more active than female in black friday sales\n",
    "* Males of age group 18-25 and 36 to 45 are more active than female of age group 26-35\n",
    "* There are mostly unmarried people who dominate the sales in age range from 18 to 45\n",
    "* Above the age of 45 mostly married people dominate the sales.\n",
    "* The order of sales is:\n",
    "    unmarried male > married male > unmarried female > married female\n",
    "* The product 1, 5 and 8 are most demanded product\n",
    "* Mostly people who buy product 1,5 and 8 belongs to age range 26 to 35.\n",
    "* Most of the transactions are made from city B that too is from the people who are employed in occupation category 0 4 and 7 are dominant\n",
    "* people who are living in city for one year are doing more shopping than others"
   ]
  },
  {
   "cell_type": "markdown",
   "id": "62b0adf5",
   "metadata": {},
   "source": [
    "Recommendations:\n",
    "* Majority of shopping are done by people of age group 18 to 45, so more foucs should be on this age group.\n",
    "* Product 1, 5 and 8 are most demanded so enough quantity should be kept in stock of these products.\n",
    "* City B have more sales so, stock should be maintained there.\n",
    "* Targetting people who are living in city for a long time for shopping by attractive offers.\n",
    "* Female can be encoureged for shopping by giving them some discounts so that they may come at par with males."
   ]
  },
  {
   "cell_type": "code",
   "execution_count": null,
   "id": "18967130",
   "metadata": {},
   "outputs": [],
   "source": []
  }
 ],
 "metadata": {
  "kernelspec": {
   "display_name": "Python 3 (ipykernel)",
   "language": "python",
   "name": "python3"
  },
  "language_info": {
   "codemirror_mode": {
    "name": "ipython",
    "version": 3
   },
   "file_extension": ".py",
   "mimetype": "text/x-python",
   "name": "python",
   "nbconvert_exporter": "python",
   "pygments_lexer": "ipython3",
   "version": "3.10.2"
  }
 },
 "nbformat": 4,
 "nbformat_minor": 5
}
